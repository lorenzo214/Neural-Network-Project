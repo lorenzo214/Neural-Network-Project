{
  "nbformat": 4,
  "nbformat_minor": 0,
  "metadata": {
    "colab": {
      "provenance": []
    },
    "kernelspec": {
      "name": "python3",
      "display_name": "Python 3"
    },
    "language_info": {
      "name": "python"
    }
  },
  "cells": [
    {
      "cell_type": "markdown",
      "source": [
        "## **Introduction** \n",
        "In this project i'm going to implement a novel recurrent network model called **Shuffling Recurrent Neural Network (SRNN)**.\n",
        "In this model the hidden state id defined as:\n",
        "$$\n",
        "h_t = \\sigma(W_p h_{t-1}+b(x_t))\n",
        "$$\n",
        "where $\\sigma$ is the activetion function and $W_p$ is a fixed permutation matrix, for example:\n",
        "$$\n",
        "W_p = \\begin{pmatrix}\n",
        "0 & 1 & \\dots & 0 & 0 \\\\\n",
        "0 & \\ddots & \\ddots & \\ddots & 0\\\\\n",
        "\\vdots & \\ddots & \\ddots & \\ddots & \\vdots\\\\\n",
        "0 & \\ddots & \\ddots & \\ddots & 1\\\\\n",
        "1 & 0 & \\dots & 0 & 0\\\\\n",
        "\\end{pmatrix}\n",
        "$$\n",
        "$$\n",
        "b(x_t) = f_r(x_t)\\odot sigmoid(W_s x_t + b_s)\n",
        "$$"
      ],
      "metadata": {
        "id": "0H41jpZrx1Gv"
      }
    },
    {
      "cell_type": "markdown",
      "source": [
        "## **Import Library**"
      ],
      "metadata": {
        "id": "XdMtVlhy42rC"
      }
    },
    {
      "cell_type": "code",
      "execution_count": null,
      "metadata": {
        "id": "HYhsToIAUrKV"
      },
      "outputs": [],
      "source": [
        "import torch\n",
        "from torch import nn\n",
        "import torch.nn.functional as F\n",
        "from torch.utils.data import Dataset, DataLoader\n",
        "import numpy as np\n",
        "import tqdm"
      ]
    },
    {
      "cell_type": "markdown",
      "source": [
        "## **Model**"
      ],
      "metadata": {
        "id": "lukT0SrN48kP"
      }
    },
    {
      "cell_type": "markdown",
      "source": [
        "$$\n",
        "h_t = \\sigma(W_p h_{t-1}+b(x_t))\n",
        "$$\n",
        "where $\\sigma$ is the activetion function\n",
        "$$\n",
        "b(x_t) = f_r(x_t)\\odot sigmoid(W_s x_t + b_s)\n",
        "$$"
      ],
      "metadata": {
        "id": "5PLAf_K3vwoF"
      }
    },
    {
      "cell_type": "code",
      "source": [
        "class SRNNHidden(nn.Module):\n",
        "  def __init__(self, inputSize, hiddenSize, numLayer, outputSize):\n",
        "    super().__init__()\n",
        "    self.gatBranch = nn.Linear(inputSize,hiddenSize)\n",
        "    listaLayer = [nn.Linear(inputSize,hiddenSize),nn.ReLU()]\n",
        "    for i in range(numLayer-1):\n",
        "      listaLayer.append(nn.Linear(hiddenSize,hiddenSize))\n",
        "      listaLayer.append(nn.ReLU())\n",
        "    self.fr = nn.Sequential(*listaLayer)\n",
        "    self.wp = torch.cat((torch.eye(hiddenSize)[1:],torch.eye(hiddenSize)[0].reshape(1,hiddenSize)))\n",
        "    self.lastLayer = nn.Linear(hiddenSize,outputSize)\n",
        "    self.inputSize = inputSize\n",
        "\n",
        "  def forward(self, x, h = None):\n",
        "    batchSize = x.shape[0]\n",
        "    if self.inputSize == 1:\n",
        "      x = torch.tensor(torch.reshape(x,(batchSize,1)),dtype=torch.float)\n",
        "    if h == None:\n",
        "      h = self.fr(x)*F.sigmoid(self.gatBranch(x))\n",
        "    else:\n",
        "      h = torch.matmul(h,self.wp)+self.fr(x)*F.sigmoid(self.gatBranch(x))\n",
        "      \n",
        "    return self.lastLayer(h),h\n",
        "\n",
        "\n",
        "class SRNN(nn.Module):\n",
        "  def __init__(self, inputSize, hiddenSize, numLayer, outputSize):\n",
        "    super().__init__()\n",
        "    self.srnnHidden = SRNNHidden(inputSize, hiddenSize, numLayer, outputSize)\n",
        "    \n",
        "\n",
        "  def forward(self, x):\n",
        "    lenRNN = x.shape[1]\n",
        "    h = None\n",
        "    for i in range(lenRNN):\n",
        "      lastLayer , h = self.srnnHidden(x[:,i],h) \n",
        "    return lastLayer"
      ],
      "metadata": {
        "id": "tcpzyZsOU0Pt"
      },
      "execution_count": null,
      "outputs": []
    },
    {
      "cell_type": "markdown",
      "source": [
        "## **Dataset**"
      ],
      "metadata": {
        "id": "yI4qh8sxIOr_"
      }
    },
    {
      "cell_type": "code",
      "source": [
        "class AddingProblemDataset(Dataset):\n",
        "    def __init__(self, ds_size=1000, sample_len=50):\n",
        "        super().__init__()\n",
        "        self.sample_len = sample_len\n",
        "        self.ds_size = ds_size\n",
        "\n",
        "    def generate_sample(self, num_samples):\n",
        "        X_value = np.random.uniform(low=0, high=1, size=(self.sample_len, 1))\n",
        "        X_mask = np.zeros((self.sample_len, 1))\n",
        "        half = int(self.sample_len / 2)\n",
        "        first_i = np.random.randint(half)\n",
        "        second_i = np.random.randint(half) + half\n",
        "        X_mask[(first_i, second_i), 0] = 1\n",
        "        Y = np.sum(X_value[(first_i, second_i), 0])\n",
        "        X = np.concatenate((X_value, X_mask), 1)\n",
        "        return X, Y\n",
        "\n",
        "    def __getitem__(self, item):\n",
        "        return [torch.tensor(x, dtype=torch.float) for x in self.generate_sample(1)]\n",
        "\n",
        "    def __len__(self):\n",
        "        return self.ds_size"
      ],
      "metadata": {
        "id": "jsGZu8XoIOVJ"
      },
      "execution_count": null,
      "outputs": []
    },
    {
      "cell_type": "code",
      "source": [
        "sampleLen = 200\n",
        "batchSize = 50\n",
        "dataset = DataLoader(AddingProblemDataset(ds_size=100*batchSize, sample_len=sampleLen),batch_size=batchSize)"
      ],
      "metadata": {
        "id": "4qZfwDG9ImYB"
      },
      "execution_count": null,
      "outputs": []
    },
    {
      "cell_type": "code",
      "source": [
        "xb, yb = next(iter(dataset))\n",
        "print(xb[:,0].shape)"
      ],
      "metadata": {
        "colab": {
          "base_uri": "https://localhost:8080/"
        },
        "id": "FPKcY6ZDC9m4",
        "outputId": "7188d082-e5cb-44b1-a791-fc8a63e11790"
      },
      "execution_count": null,
      "outputs": [
        {
          "output_type": "stream",
          "name": "stdout",
          "text": [
            "torch.Size([50, 2])\n"
          ]
        }
      ]
    },
    {
      "cell_type": "code",
      "source": [
        "print(xb[:,199])"
      ],
      "metadata": {
        "colab": {
          "base_uri": "https://localhost:8080/"
        },
        "id": "Ob-b9XTIDf5A",
        "outputId": "41e86d3f-eebf-425b-b7e0-0ea89676290b"
      },
      "execution_count": null,
      "outputs": [
        {
          "output_type": "stream",
          "name": "stdout",
          "text": [
            "tensor([[0.7535, 0.0000],\n",
            "        [0.6378, 0.0000],\n",
            "        [0.8023, 0.0000],\n",
            "        [0.9802, 0.0000],\n",
            "        [0.9236, 0.0000],\n",
            "        [0.8213, 0.0000],\n",
            "        [0.8021, 0.0000],\n",
            "        [0.4632, 0.0000],\n",
            "        [0.0925, 0.0000],\n",
            "        [0.8633, 0.0000],\n",
            "        [0.6354, 0.0000],\n",
            "        [0.0670, 0.0000],\n",
            "        [0.8477, 0.0000],\n",
            "        [0.4796, 0.0000],\n",
            "        [0.3050, 0.0000],\n",
            "        [0.8500, 0.0000],\n",
            "        [0.0214, 0.0000],\n",
            "        [0.9368, 0.0000],\n",
            "        [0.4937, 0.0000],\n",
            "        [0.4837, 0.0000],\n",
            "        [0.8220, 0.0000],\n",
            "        [0.3104, 0.0000],\n",
            "        [0.4876, 0.0000],\n",
            "        [0.0238, 0.0000],\n",
            "        [0.2550, 0.0000],\n",
            "        [0.8365, 0.0000],\n",
            "        [0.2366, 0.0000],\n",
            "        [0.3313, 0.0000],\n",
            "        [0.3741, 0.0000],\n",
            "        [0.8685, 0.0000],\n",
            "        [0.7626, 0.0000],\n",
            "        [0.7973, 0.0000],\n",
            "        [0.1178, 0.0000],\n",
            "        [0.7575, 0.0000],\n",
            "        [0.9192, 0.0000],\n",
            "        [0.6698, 0.0000],\n",
            "        [0.2995, 0.0000],\n",
            "        [0.4118, 0.0000],\n",
            "        [0.8498, 0.0000],\n",
            "        [0.8706, 0.0000],\n",
            "        [0.0191, 0.0000],\n",
            "        [0.2672, 0.0000],\n",
            "        [0.9480, 0.0000],\n",
            "        [0.0081, 0.0000],\n",
            "        [0.4868, 0.0000],\n",
            "        [0.4514, 0.0000],\n",
            "        [0.5525, 0.0000],\n",
            "        [0.7906, 0.0000],\n",
            "        [0.1304, 0.0000],\n",
            "        [0.1394, 0.0000]])\n"
          ]
        }
      ]
    },
    {
      "cell_type": "code",
      "source": [
        "net = SRNN(2,128,8,1)"
      ],
      "metadata": {
        "id": "e3ilJBMNMceL"
      },
      "execution_count": null,
      "outputs": []
    },
    {
      "cell_type": "code",
      "source": [
        "loss = nn.MSELoss()\n",
        "opt = torch.optim.Adam(net.parameters())"
      ],
      "metadata": {
        "id": "7JGTts2GOt58"
      },
      "execution_count": null,
      "outputs": []
    },
    {
      "cell_type": "code",
      "source": [
        "device = 'cuda' if torch.cuda.is_available() else 'cpu'"
      ],
      "metadata": {
        "id": "rSB5UK60PY7a"
      },
      "execution_count": null,
      "outputs": []
    },
    {
      "cell_type": "code",
      "source": [
        "xb, yb = next(iter(dataset))\n",
        "ypred = net(xb)\n",
        "print(loss(ypred.squeeze(), yb))"
      ],
      "metadata": {
        "colab": {
          "base_uri": "https://localhost:8080/"
        },
        "id": "uoAYpKX7Ovh0",
        "outputId": "1e01e046-3568-4978-fc9a-6ec0e33c3d91"
      },
      "execution_count": null,
      "outputs": [
        {
          "output_type": "stream",
          "name": "stdout",
          "text": [
            "tensor(3.1888, grad_fn=<MseLossBackward0>)\n"
          ]
        }
      ]
    },
    {
      "cell_type": "code",
      "source": [
        "for epoch in range(10):\n",
        "  net.train()\n",
        "  for xb, yb in tqdm.tqdm(dataset):\n",
        "    \n",
        "    xb, yb = xb.to(device), yb.to(device)\n",
        "    opt.zero_grad()\n",
        "    ypred = net(xb)\n",
        "    l = loss(ypred.squeeze(), yb)\n",
        "    l.backward()\n",
        "    opt.step()\n",
        "\n",
        "  net.eval()\n",
        "  print(f'Accuracy at epoch {epoch}: {l}')"
      ],
      "metadata": {
        "colab": {
          "base_uri": "https://localhost:8080/",
          "height": 263
        },
        "id": "6cB7nwrTPAfc",
        "outputId": "cc9a1fa0-3a41-4793-ebc5-914a53e6af0c"
      },
      "execution_count": null,
      "outputs": [
        {
          "output_type": "stream",
          "name": "stderr",
          "text": [
            "  0%|          | 0/100 [00:00<?, ?it/s]\n"
          ]
        },
        {
          "output_type": "error",
          "ename": "NameError",
          "evalue": "ignored",
          "traceback": [
            "\u001b[0;31m---------------------------------------------------------------------------\u001b[0m",
            "\u001b[0;31mNameError\u001b[0m                                 Traceback (most recent call last)",
            "\u001b[0;32m<ipython-input-267-2fcce69881e7>\u001b[0m in \u001b[0;36m<module>\u001b[0;34m\u001b[0m\n\u001b[1;32m      4\u001b[0m \u001b[0;34m\u001b[0m\u001b[0m\n\u001b[1;32m      5\u001b[0m     \u001b[0mxb\u001b[0m\u001b[0;34m,\u001b[0m \u001b[0myb\u001b[0m \u001b[0;34m=\u001b[0m \u001b[0mxb\u001b[0m\u001b[0;34m.\u001b[0m\u001b[0mto\u001b[0m\u001b[0;34m(\u001b[0m\u001b[0mdevice\u001b[0m\u001b[0;34m)\u001b[0m\u001b[0;34m,\u001b[0m \u001b[0myb\u001b[0m\u001b[0;34m.\u001b[0m\u001b[0mto\u001b[0m\u001b[0;34m(\u001b[0m\u001b[0mdevice\u001b[0m\u001b[0;34m)\u001b[0m\u001b[0;34m\u001b[0m\u001b[0;34m\u001b[0m\u001b[0m\n\u001b[0;32m----> 6\u001b[0;31m     \u001b[0mopt\u001b[0m\u001b[0;34m.\u001b[0m\u001b[0mzero_grad\u001b[0m\u001b[0;34m(\u001b[0m\u001b[0;34m)\u001b[0m\u001b[0;34m\u001b[0m\u001b[0;34m\u001b[0m\u001b[0m\n\u001b[0m\u001b[1;32m      7\u001b[0m     \u001b[0mypred\u001b[0m \u001b[0;34m=\u001b[0m \u001b[0mnet\u001b[0m\u001b[0;34m(\u001b[0m\u001b[0mxb\u001b[0m\u001b[0;34m)\u001b[0m\u001b[0;34m\u001b[0m\u001b[0;34m\u001b[0m\u001b[0m\n\u001b[1;32m      8\u001b[0m     \u001b[0ml\u001b[0m \u001b[0;34m=\u001b[0m \u001b[0mloss\u001b[0m\u001b[0;34m(\u001b[0m\u001b[0mypred\u001b[0m\u001b[0;34m.\u001b[0m\u001b[0msqueeze\u001b[0m\u001b[0;34m(\u001b[0m\u001b[0;34m)\u001b[0m\u001b[0;34m,\u001b[0m \u001b[0myb\u001b[0m\u001b[0;34m)\u001b[0m\u001b[0;34m\u001b[0m\u001b[0;34m\u001b[0m\u001b[0m\n",
            "\u001b[0;31mNameError\u001b[0m: name 'opt' is not defined"
          ]
        }
      ]
    },
    {
      "cell_type": "code",
      "source": [
        "print(ypred.squeeze())\n",
        "print(yb)"
      ],
      "metadata": {
        "colab": {
          "base_uri": "https://localhost:8080/"
        },
        "id": "cctK_m8rQKPK",
        "outputId": "569331a9-1fe4-4fcf-e388-6cc194b4434f"
      },
      "execution_count": null,
      "outputs": [
        {
          "output_type": "stream",
          "name": "stdout",
          "text": [
            "tensor([1.1435, 0.6825, 1.1569, 0.4024, 1.5190, 0.7160, 0.8380, 1.2092, 0.7578,\n",
            "        1.3829, 1.3773, 1.7458, 0.5910, 1.5378, 1.2689, 1.2294, 0.4931, 1.0765,\n",
            "        0.8271, 0.4146, 1.0395, 0.6979, 1.8138, 1.0913, 0.9922, 0.4964, 0.7114,\n",
            "        0.5122, 1.0945, 1.0984, 0.9331, 0.3317, 0.7493, 0.5787, 1.5046, 1.2838,\n",
            "        1.3606, 1.0465, 1.1303, 0.4454, 1.1611, 0.9078, 0.8551, 0.9981, 0.4628,\n",
            "        0.5250, 0.3774, 0.5348, 1.0372, 0.8259], grad_fn=<SqueezeBackward0>)\n",
            "tensor([1.1120, 0.6453, 1.2261, 0.4101, 1.5449, 0.7189, 0.8389, 1.3033, 0.7926,\n",
            "        1.4806, 1.3964, 1.6161, 0.5752, 1.4688, 1.2333, 1.2208, 0.5378, 1.1619,\n",
            "        0.7926, 0.4185, 1.0045, 0.7123, 1.6930, 1.1651, 0.9513, 0.4966, 0.7605,\n",
            "        0.5358, 1.1799, 1.1542, 0.9382, 0.2806, 0.7964, 0.5965, 1.5807, 1.3630,\n",
            "        1.4300, 1.0673, 1.0873, 0.4405, 1.1197, 0.9074, 0.8598, 1.0608, 0.4643,\n",
            "        0.5172, 0.3734, 0.5291, 1.0209, 0.8503])\n"
          ]
        }
      ]
    },
    {
      "cell_type": "code",
      "source": [],
      "metadata": {
        "id": "UiwfFAfd7YFC"
      },
      "execution_count": null,
      "outputs": []
    },
    {
      "cell_type": "markdown",
      "source": [
        "## **Copying Memory Problem**"
      ],
      "metadata": {
        "id": "c9di6HcG7aM5"
      }
    },
    {
      "cell_type": "code",
      "source": [
        "class CopyingMemoryProblemDataset(Dataset):\n",
        "    def __init__(self, ds_size=1000, sample_len=50):\n",
        "        super().__init__()\n",
        "        self.sample_len = sample_len + 20\n",
        "        self.ds_size = ds_size\n",
        "\n",
        "    def generate_sample(self, num_samples):\n",
        "        assert (self.sample_len > 20)  # must be\n",
        "\n",
        "        X = np.zeros((self.sample_len, 1))\n",
        "        data = np.random.randint(low=1, high=9, size=(10, 1))\n",
        "        X[:10] = data\n",
        "        X[-11] = 9\n",
        "        Y = np.zeros((self.sample_len, 1))\n",
        "        Y = X[:10]\n",
        "        return X, Y\n",
        "\n",
        "    def __getitem__(self, item):\n",
        "        return [torch.tensor(x) for x in self.generate_sample(1)]#[torch.tensor(x, dtype=torch.long) for x in self.generate_sample(1)]\n",
        "\n",
        "    def __len__(self):\n",
        "        return self.ds_size"
      ],
      "metadata": {
        "id": "2RiTuUuj7ext"
      },
      "execution_count": null,
      "outputs": []
    },
    {
      "cell_type": "code",
      "source": [
        "datasetCopying = DataLoader(CopyingMemoryProblemDataset(),batch_size=20) "
      ],
      "metadata": {
        "id": "K9NkgSf-7mgF"
      },
      "execution_count": null,
      "outputs": []
    },
    {
      "cell_type": "code",
      "source": [
        "xb, yb = next(iter(datasetCopying))\n",
        "print(xb.shape)\n",
        "print(yb.shape)"
      ],
      "metadata": {
        "colab": {
          "base_uri": "https://localhost:8080/"
        },
        "id": "w6966j2j9wq9",
        "outputId": "3068d9d6-b66a-425f-8829-b446d0ba44fa"
      },
      "execution_count": null,
      "outputs": [
        {
          "output_type": "stream",
          "name": "stdout",
          "text": [
            "torch.Size([1, 70, 1])\n",
            "torch.Size([1, 10, 1])\n"
          ]
        }
      ]
    },
    {
      "cell_type": "code",
      "source": [
        "print(xb[0,:10])\n",
        "print(xb[0])"
      ],
      "metadata": {
        "colab": {
          "base_uri": "https://localhost:8080/"
        },
        "id": "KklMTvINswiA",
        "outputId": "40dd1985-7fa6-4b4d-f1bd-6d066d07d560"
      },
      "execution_count": null,
      "outputs": [
        {
          "output_type": "stream",
          "name": "stdout",
          "text": [
            "tensor([[2.],\n",
            "        [1.],\n",
            "        [7.],\n",
            "        [1.],\n",
            "        [1.],\n",
            "        [6.],\n",
            "        [3.],\n",
            "        [7.],\n",
            "        [6.],\n",
            "        [5.]], dtype=torch.float64)\n",
            "tensor([[2.],\n",
            "        [1.],\n",
            "        [7.],\n",
            "        [1.],\n",
            "        [1.],\n",
            "        [6.],\n",
            "        [3.],\n",
            "        [7.],\n",
            "        [6.],\n",
            "        [5.],\n",
            "        [0.],\n",
            "        [0.],\n",
            "        [0.],\n",
            "        [0.],\n",
            "        [0.],\n",
            "        [0.],\n",
            "        [0.],\n",
            "        [0.],\n",
            "        [0.],\n",
            "        [0.],\n",
            "        [0.],\n",
            "        [0.],\n",
            "        [0.],\n",
            "        [0.],\n",
            "        [0.],\n",
            "        [0.],\n",
            "        [0.],\n",
            "        [0.],\n",
            "        [0.],\n",
            "        [0.],\n",
            "        [0.],\n",
            "        [0.],\n",
            "        [0.],\n",
            "        [0.],\n",
            "        [0.],\n",
            "        [0.],\n",
            "        [0.],\n",
            "        [0.],\n",
            "        [0.],\n",
            "        [0.],\n",
            "        [0.],\n",
            "        [0.],\n",
            "        [0.],\n",
            "        [0.],\n",
            "        [0.],\n",
            "        [0.],\n",
            "        [0.],\n",
            "        [0.],\n",
            "        [0.],\n",
            "        [0.],\n",
            "        [0.],\n",
            "        [0.],\n",
            "        [0.],\n",
            "        [0.],\n",
            "        [0.],\n",
            "        [0.],\n",
            "        [0.],\n",
            "        [0.],\n",
            "        [0.],\n",
            "        [9.],\n",
            "        [0.],\n",
            "        [0.],\n",
            "        [0.],\n",
            "        [0.],\n",
            "        [0.],\n",
            "        [0.],\n",
            "        [0.],\n",
            "        [0.],\n",
            "        [0.],\n",
            "        [0.]], dtype=torch.float64)\n"
          ]
        }
      ]
    },
    {
      "cell_type": "code",
      "source": [
        "vet = torch.Tensor([[1,2,3,4,5,6,7,8,9,10,11,12,13,14,15,16,17,18,19,20]])\n",
        "print(vet.shape)\n",
        "print(vet)"
      ],
      "metadata": {
        "colab": {
          "base_uri": "https://localhost:8080/"
        },
        "id": "TVZ7OtuM9x7Z",
        "outputId": "a293d169-517a-4f52-8cf8-0cb090fc29b9"
      },
      "execution_count": null,
      "outputs": [
        {
          "output_type": "stream",
          "name": "stdout",
          "text": [
            "torch.Size([1, 20])\n",
            "tensor([[ 1.,  2.,  3.,  4.,  5.,  6.,  7.,  8.,  9., 10., 11., 12., 13., 14.,\n",
            "         15., 16., 17., 18., 19., 20.]])\n"
          ]
        }
      ]
    },
    {
      "cell_type": "code",
      "source": [
        "netCopying = SRNN(1,128,8,10)\n"
      ],
      "metadata": {
        "id": "N8KVkmUc73pw"
      },
      "execution_count": null,
      "outputs": []
    },
    {
      "cell_type": "code",
      "source": [
        "a = torch.rand(20,1)\n",
        "b = torch.rand(1,128)\n",
        "torch.matmul(a,b)"
      ],
      "metadata": {
        "colab": {
          "base_uri": "https://localhost:8080/"
        },
        "id": "CNjfzWoqJwrW",
        "outputId": "1df3d5b3-9024-4a36-847c-db9b1ad8cf2d"
      },
      "execution_count": null,
      "outputs": [
        {
          "output_type": "execute_result",
          "data": {
            "text/plain": [
              "tensor([[0.0728, 0.0308, 0.0018,  ..., 0.1982, 0.1562, 0.0268],\n",
              "        [0.1462, 0.0619, 0.0035,  ..., 0.3982, 0.3138, 0.0538],\n",
              "        [0.2677, 0.1133, 0.0065,  ..., 0.7291, 0.5746, 0.0984],\n",
              "        ...,\n",
              "        [0.2569, 0.1087, 0.0062,  ..., 0.6997, 0.5515, 0.0945],\n",
              "        [0.2956, 0.1251, 0.0071,  ..., 0.8050, 0.6345, 0.1087],\n",
              "        [0.2532, 0.1072, 0.0061,  ..., 0.6896, 0.5435, 0.0931]])"
            ]
          },
          "metadata": {},
          "execution_count": 288
        }
      ]
    },
    {
      "cell_type": "code",
      "source": [],
      "metadata": {
        "id": "5ho3RXBcJwPJ"
      },
      "execution_count": null,
      "outputs": []
    },
    {
      "cell_type": "code",
      "source": [
        "lossCopying = nn.CrossEntropyLoss()\n",
        "optCopying = torch.optim.Adam(netCopying.parameters())"
      ],
      "metadata": {
        "id": "DKe8oxQS8q-1"
      },
      "execution_count": null,
      "outputs": []
    },
    {
      "cell_type": "code",
      "source": [
        "for epoch in range(10):\n",
        "  netCopying.train()\n",
        "  for xb, yb in tqdm.tqdm(datasetCopying):\n",
        "    \n",
        "    xb, yb = xb.to(device), yb.to(device)\n",
        "    optCopying.zero_grad()\n",
        "    ypred = netCopying(xb)\n",
        "    #print(ypred.squeeze().shape)\n",
        "    #print(yb.squeeze().shape)\n",
        "    l = lossCopying(ypred.squeeze(), yb.squeeze())\n",
        "    l.backward()\n",
        "    optCopying.step()\n",
        "\n",
        "  netCopying.eval()\n",
        "  print(f'Accuracy at epoch {epoch}: {l}')"
      ],
      "metadata": {
        "colab": {
          "base_uri": "https://localhost:8080/"
        },
        "id": "SteYLYoP81zt",
        "outputId": "8ffff4f6-2aba-4339-fa7f-ac2b8d6f247d"
      },
      "execution_count": null,
      "outputs": [
        {
          "output_type": "stream",
          "name": "stderr",
          "text": [
            "  0%|          | 0/50 [00:00<?, ?it/s]<ipython-input-266-2afbdff4ad28>:17: UserWarning: To copy construct from a tensor, it is recommended to use sourceTensor.clone().detach() or sourceTensor.clone().detach().requires_grad_(True), rather than torch.tensor(sourceTensor).\n",
            "  x = torch.tensor(torch.reshape(x,(batchSize,1)),dtype=torch.float)\n",
            "100%|██████████| 50/50 [00:08<00:00,  5.69it/s]\n"
          ]
        },
        {
          "output_type": "stream",
          "name": "stdout",
          "text": [
            "Accuracy at epoch 0: 94.61576467752457\n"
          ]
        },
        {
          "output_type": "stream",
          "name": "stderr",
          "text": [
            "100%|██████████| 50/50 [00:08<00:00,  5.98it/s]\n"
          ]
        },
        {
          "output_type": "stream",
          "name": "stdout",
          "text": [
            "Accuracy at epoch 1: 104.3160625398159\n"
          ]
        },
        {
          "output_type": "stream",
          "name": "stderr",
          "text": [
            "100%|██████████| 50/50 [00:07<00:00,  6.57it/s]\n"
          ]
        },
        {
          "output_type": "stream",
          "name": "stdout",
          "text": [
            "Accuracy at epoch 2: 96.6832513153553\n"
          ]
        },
        {
          "output_type": "stream",
          "name": "stderr",
          "text": [
            "100%|██████████| 50/50 [00:08<00:00,  5.89it/s]\n"
          ]
        },
        {
          "output_type": "stream",
          "name": "stdout",
          "text": [
            "Accuracy at epoch 3: 97.07413845658303\n"
          ]
        },
        {
          "output_type": "stream",
          "name": "stderr",
          "text": [
            "100%|██████████| 50/50 [00:07<00:00,  6.37it/s]\n"
          ]
        },
        {
          "output_type": "stream",
          "name": "stdout",
          "text": [
            "Accuracy at epoch 4: 106.04366326928138\n"
          ]
        },
        {
          "output_type": "stream",
          "name": "stderr",
          "text": [
            "100%|██████████| 50/50 [00:08<00:00,  6.06it/s]\n"
          ]
        },
        {
          "output_type": "stream",
          "name": "stdout",
          "text": [
            "Accuracy at epoch 5: 102.15806597471237\n"
          ]
        },
        {
          "output_type": "stream",
          "name": "stderr",
          "text": [
            "100%|██████████| 50/50 [00:08<00:00,  5.69it/s]\n"
          ]
        },
        {
          "output_type": "stream",
          "name": "stdout",
          "text": [
            "Accuracy at epoch 6: 99.31982206702233\n"
          ]
        },
        {
          "output_type": "stream",
          "name": "stderr",
          "text": [
            "100%|██████████| 50/50 [00:07<00:00,  6.70it/s]\n"
          ]
        },
        {
          "output_type": "stream",
          "name": "stdout",
          "text": [
            "Accuracy at epoch 7: 96.4642130613327\n"
          ]
        },
        {
          "output_type": "stream",
          "name": "stderr",
          "text": [
            "100%|██████████| 50/50 [00:08<00:00,  5.94it/s]\n"
          ]
        },
        {
          "output_type": "stream",
          "name": "stdout",
          "text": [
            "Accuracy at epoch 8: 95.63468106389045\n"
          ]
        },
        {
          "output_type": "stream",
          "name": "stderr",
          "text": [
            "100%|██████████| 50/50 [00:08<00:00,  5.84it/s]"
          ]
        },
        {
          "output_type": "stream",
          "name": "stdout",
          "text": [
            "Accuracy at epoch 9: 92.84656897783279\n"
          ]
        },
        {
          "output_type": "stream",
          "name": "stderr",
          "text": [
            "\n"
          ]
        }
      ]
    }
  ]
}