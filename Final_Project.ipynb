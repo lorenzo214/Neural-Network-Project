{
  "nbformat": 4,
  "nbformat_minor": 0,
  "metadata": {
    "colab": {
      "provenance": []
    },
    "kernelspec": {
      "name": "python3",
      "display_name": "Python 3"
    },
    "language_info": {
      "name": "python"
    }
  },
  "cells": [
    {
      "cell_type": "markdown",
      "source": [
        "## **Introduction** \n",
        "In this project i'm going to implement a novel recurrent network model called **Shuffling Recurrent Neural Network (SRNN)**.\n",
        "In this model the hidden state id defined as:\n",
        "$$\n",
        "h_t = \\sigma(W_p h_{t-1}+b(x_t))\n",
        "$$\n",
        "where $\\sigma$ is the activetion function and $W_p$ is a fixed permutation matrix, for example:\n",
        "$$\n",
        "W_p = \\begin{pmatrix}\n",
        "0 & 1 & \\dots & 0 & 0 \\\\\n",
        "0 & \\ddots & \\ddots & \\ddots & 0\\\\\n",
        "\\vdots & \\ddots & \\ddots & \\ddots & \\vdots\\\\\n",
        "0 & \\ddots & \\ddots & \\ddots & 1\\\\\n",
        "1 & 0 & \\dots & 0 & 0\\\\\n",
        "\\end{pmatrix}\n",
        "$$\n",
        "$$\n",
        "b(x_t) = f_r(x_t)\\odot sigmoid(W_s x_t + b_s)\n",
        "$$"
      ],
      "metadata": {
        "id": "0H41jpZrx1Gv"
      }
    },
    {
      "cell_type": "markdown",
      "source": [
        "## **Import Library**"
      ],
      "metadata": {
        "id": "XdMtVlhy42rC"
      }
    },
    {
      "cell_type": "code",
      "execution_count": 52,
      "metadata": {
        "id": "HYhsToIAUrKV"
      },
      "outputs": [],
      "source": [
        "import torch\n",
        "from torch import nn\n",
        "import torch.nn.functional as F\n",
        "from torch.utils.data import Dataset, DataLoader\n",
        "import numpy as np\n",
        "import tqdm"
      ]
    },
    {
      "cell_type": "markdown",
      "source": [
        "## **Model**"
      ],
      "metadata": {
        "id": "lukT0SrN48kP"
      }
    },
    {
      "cell_type": "markdown",
      "source": [
        " $$h_t = \\sigma(W_p h_{t-1}+b(x_t))$$\n",
        "\n",
        "where:\n",
        "\n",
        "$h_{t-1} ϵ ℜ^{d_h} $\n",
        "\n",
        "$x_t ϵ ℜ^{d_i} $\n",
        "\n",
        "$d_h$ is the dimension of the hidden state\n",
        "\n",
        "$d_i$ is the dimension of the input\n",
        "\n",
        "$$b(x_t) = f_r(x_t)\\odot sigmoid(W_s x_t + b_s)$$\n",
        "\n",
        "where:\n",
        "\n",
        "$f_r$ is a MLP and $f_r:ℜ^{d_i} \\rightarrow ℜ^{d_h}$\n",
        "\n",
        "$W_s \\epsilon ℜ^{d_h \\times d_i}$\n",
        "\n",
        "$b_s \\epsilon ℜ^{d_h}$"
      ],
      "metadata": {
        "id": "5PLAf_K3vwoF"
      }
    },
    {
      "cell_type": "code",
      "source": [
        "class SRNNHidden(nn.Module):\n",
        "  def __init__(self, inputSize, hiddenSize, numLayer, outputSize):\n",
        "    super().__init__()\n",
        "    self.gatBranch = nn.Linear(inputSize,hiddenSize)\n",
        "    listaLayer = [nn.Linear(inputSize,hiddenSize),nn.ReLU()]\n",
        "    for i in range(numLayer-1):\n",
        "      listaLayer.append(nn.Linear(hiddenSize,hiddenSize))\n",
        "      listaLayer.append(nn.ReLU())\n",
        "    self.fr = nn.Sequential(*listaLayer)\n",
        "    self.wp = torch.cat((torch.eye(hiddenSize)[1:],torch.eye(hiddenSize)[0].reshape(1,hiddenSize)))\n",
        "    self.lastLayer = nn.Linear(hiddenSize,outputSize)\n",
        "    self.inputSize = inputSize\n",
        "\n",
        "  def forward(self, x, h = None):\n",
        "    batchSize = x.shape[0]\n",
        "    if self.inputSize == 1:\n",
        "      x = torch.tensor(torch.reshape(x,(batchSize,1)),dtype=torch.float)\n",
        "    if h == None:\n",
        "      h = self.fr(x)*torch.sigmoid(self.gatBranch(x))\n",
        "    else:\n",
        "      h = torch.matmul(h,self.wp)+self.fr(x)*torch.sigmoid(self.gatBranch(x))\n",
        "      \n",
        "    return self.lastLayer(h),h\n",
        "\n",
        "\n",
        "class SRNN(nn.Module):\n",
        "  def __init__(self, inputSize, hiddenSize, numLayer, outputSize):\n",
        "    super().__init__()\n",
        "    self.srnnHidden = SRNNHidden(inputSize, hiddenSize, numLayer, outputSize)\n",
        "    \n",
        "\n",
        "  def forward(self, x):\n",
        "    lenRNN = x.shape[1]\n",
        "    h = None\n",
        "    for i in range(lenRNN):\n",
        "      lastLayer , h = self.srnnHidden(x[:,i],h) \n",
        "    return lastLayer, h"
      ],
      "metadata": {
        "id": "tcpzyZsOU0Pt"
      },
      "execution_count": 53,
      "outputs": []
    },
    {
      "cell_type": "markdown",
      "source": [
        "In order to inizialize the neural network we need to define 4 parameters: the size of the input (inputSize), the size of the hidden state (hiddenSize), the number of the layer of the MLP $f_r$ (numLayer) and the size of the output (outputSize)\n"
      ],
      "metadata": {
        "id": "1v9f9Iy0lkoY"
      }
    },
    {
      "cell_type": "code",
      "source": [
        "net = SRNN(2,128,8,1)"
      ],
      "metadata": {
        "id": "qAFsvP62lmHZ"
      },
      "execution_count": 54,
      "outputs": []
    },
    {
      "cell_type": "markdown",
      "source": [
        "The values of the parameters are the same that was used in the paper"
      ],
      "metadata": {
        "id": "XjbKQFP2nD4j"
      }
    },
    {
      "cell_type": "markdown",
      "source": [
        "## **Dataset**"
      ],
      "metadata": {
        "id": "yI4qh8sxIOr_"
      }
    },
    {
      "cell_type": "markdown",
      "source": [
        "We are going to test our net on one of the datasets that were used in the paper.\n",
        "The dataset is the Adding Problem Dataset.\n",
        "The code that we are going to use to build the dataset it's the code of the Paper.\n",
        "\n",
        "For more information about the Adding Problem see the file in the repository"
      ],
      "metadata": {
        "id": "GlRqdVswnSST"
      }
    },
    {
      "cell_type": "code",
      "source": [
        "class AddingProblemDataset(Dataset):\n",
        "    def __init__(self, ds_size=1000, sample_len=50):\n",
        "        super().__init__()\n",
        "        self.sample_len = sample_len\n",
        "        self.ds_size = ds_size\n",
        "\n",
        "    def generate_sample(self, num_samples):\n",
        "        X_value = np.random.uniform(low=0, high=1, size=(self.sample_len, 1))\n",
        "        X_mask = np.zeros((self.sample_len, 1))\n",
        "        half = int(self.sample_len / 2)\n",
        "        first_i = np.random.randint(half)\n",
        "        second_i = np.random.randint(half) + half\n",
        "        X_mask[(first_i, second_i), 0] = 1\n",
        "        Y = np.sum(X_value[(first_i, second_i), 0])\n",
        "        X = np.concatenate((X_value, X_mask), 1)\n",
        "        return X, Y\n",
        "\n",
        "    def __getitem__(self, item):\n",
        "        return [torch.tensor(x, dtype=torch.float) for x in self.generate_sample(1)]\n",
        "\n",
        "    def __len__(self):\n",
        "        return self.ds_size"
      ],
      "metadata": {
        "id": "jsGZu8XoIOVJ"
      },
      "execution_count": 55,
      "outputs": []
    },
    {
      "cell_type": "code",
      "source": [
        "sampleLen = 200\n",
        "batchSize = 50\n",
        "dataset = DataLoader(AddingProblemDataset(ds_size=100*batchSize, sample_len=sampleLen),batch_size=batchSize)"
      ],
      "metadata": {
        "id": "4qZfwDG9ImYB"
      },
      "execution_count": 56,
      "outputs": []
    },
    {
      "cell_type": "markdown",
      "source": [
        "We are going to use the Mean Square Error Loss function, the same loss function that was used in the paper"
      ],
      "metadata": {
        "id": "AlLUSWsKrNkm"
      }
    },
    {
      "cell_type": "code",
      "source": [
        "loss = nn.MSELoss()\n",
        "opt = torch.optim.Adam(net.parameters())"
      ],
      "metadata": {
        "id": "7JGTts2GOt58"
      },
      "execution_count": 57,
      "outputs": []
    },
    {
      "cell_type": "code",
      "source": [
        "device = 'cuda' if torch.cuda.is_available() else 'cpu'"
      ],
      "metadata": {
        "id": "rSB5UK60PY7a"
      },
      "execution_count": 58,
      "outputs": []
    },
    {
      "cell_type": "code",
      "source": [
        "xb, yb = next(iter(dataset))\n",
        "ypred, h = net(xb)\n",
        "print(loss(ypred.squeeze(), yb))"
      ],
      "metadata": {
        "colab": {
          "base_uri": "https://localhost:8080/"
        },
        "id": "uoAYpKX7Ovh0",
        "outputId": "789bcf81-ce5f-449a-ee4f-e7adb48b7678"
      },
      "execution_count": 59,
      "outputs": [
        {
          "output_type": "stream",
          "name": "stdout",
          "text": [
            "tensor(2.6808, grad_fn=<MseLossBackward0>)\n"
          ]
        }
      ]
    },
    {
      "cell_type": "code",
      "source": [
        "for epoch in range(10):\n",
        "  net.train()\n",
        "  for xb, yb in tqdm.tqdm(dataset):\n",
        "    \n",
        "    xb, yb = xb.to(device), yb.to(device)\n",
        "    opt.zero_grad()\n",
        "    ypred, h = net(xb)\n",
        "    l = loss(ypred.squeeze(), yb)\n",
        "    l.backward()\n",
        "    opt.step()\n",
        "\n",
        "  net.eval()\n",
        "  print(f'Accuracy at epoch {epoch+1}: {l}')"
      ],
      "metadata": {
        "colab": {
          "base_uri": "https://localhost:8080/"
        },
        "id": "6cB7nwrTPAfc",
        "outputId": "6a50a5ed-7730-4b52-b31d-755e17f21048"
      },
      "execution_count": 60,
      "outputs": [
        {
          "output_type": "stream",
          "name": "stderr",
          "text": [
            "100%|██████████| 100/100 [00:50<00:00,  1.97it/s]\n"
          ]
        },
        {
          "output_type": "stream",
          "name": "stdout",
          "text": [
            "Accuracy at epoch 1: 0.17953723669052124\n"
          ]
        },
        {
          "output_type": "stream",
          "name": "stderr",
          "text": [
            "100%|██████████| 100/100 [00:45<00:00,  2.20it/s]\n"
          ]
        },
        {
          "output_type": "stream",
          "name": "stdout",
          "text": [
            "Accuracy at epoch 2: 0.14739765226840973\n"
          ]
        },
        {
          "output_type": "stream",
          "name": "stderr",
          "text": [
            "100%|██████████| 100/100 [00:44<00:00,  2.25it/s]\n"
          ]
        },
        {
          "output_type": "stream",
          "name": "stdout",
          "text": [
            "Accuracy at epoch 3: 0.1668688952922821\n"
          ]
        },
        {
          "output_type": "stream",
          "name": "stderr",
          "text": [
            "100%|██████████| 100/100 [00:46<00:00,  2.17it/s]\n"
          ]
        },
        {
          "output_type": "stream",
          "name": "stdout",
          "text": [
            "Accuracy at epoch 4: 0.12376651167869568\n"
          ]
        },
        {
          "output_type": "stream",
          "name": "stderr",
          "text": [
            "100%|██████████| 100/100 [00:44<00:00,  2.24it/s]\n"
          ]
        },
        {
          "output_type": "stream",
          "name": "stdout",
          "text": [
            "Accuracy at epoch 5: 0.022722119465470314\n"
          ]
        },
        {
          "output_type": "stream",
          "name": "stderr",
          "text": [
            "100%|██████████| 100/100 [00:45<00:00,  2.19it/s]\n"
          ]
        },
        {
          "output_type": "stream",
          "name": "stdout",
          "text": [
            "Accuracy at epoch 6: 0.019684581086039543\n"
          ]
        },
        {
          "output_type": "stream",
          "name": "stderr",
          "text": [
            "100%|██████████| 100/100 [00:44<00:00,  2.23it/s]\n"
          ]
        },
        {
          "output_type": "stream",
          "name": "stdout",
          "text": [
            "Accuracy at epoch 7: 0.011949127539992332\n"
          ]
        },
        {
          "output_type": "stream",
          "name": "stderr",
          "text": [
            "100%|██████████| 100/100 [00:46<00:00,  2.16it/s]\n"
          ]
        },
        {
          "output_type": "stream",
          "name": "stdout",
          "text": [
            "Accuracy at epoch 8: 0.006745799910277128\n"
          ]
        },
        {
          "output_type": "stream",
          "name": "stderr",
          "text": [
            "100%|██████████| 100/100 [00:46<00:00,  2.15it/s]\n"
          ]
        },
        {
          "output_type": "stream",
          "name": "stdout",
          "text": [
            "Accuracy at epoch 9: 0.014725782908499241\n"
          ]
        },
        {
          "output_type": "stream",
          "name": "stderr",
          "text": [
            "100%|██████████| 100/100 [00:44<00:00,  2.24it/s]"
          ]
        },
        {
          "output_type": "stream",
          "name": "stdout",
          "text": [
            "Accuracy at epoch 10: 0.003851079847663641\n"
          ]
        },
        {
          "output_type": "stream",
          "name": "stderr",
          "text": [
            "\n"
          ]
        }
      ]
    },
    {
      "cell_type": "code",
      "source": [
        "print(ypred.squeeze())\n",
        "print(yb)"
      ],
      "metadata": {
        "colab": {
          "base_uri": "https://localhost:8080/"
        },
        "id": "cctK_m8rQKPK",
        "outputId": "1595b554-6ad4-4d79-bf75-d64d0620bc79"
      },
      "execution_count": 61,
      "outputs": [
        {
          "output_type": "stream",
          "name": "stdout",
          "text": [
            "tensor([0.8368, 0.6073, 1.4439, 1.0808, 0.8531, 0.9881, 1.2640, 1.1317, 1.2514,\n",
            "        0.8691, 0.8017, 0.5457, 0.9808, 0.7162, 1.1850, 0.5861, 0.7227, 0.7418,\n",
            "        1.2890, 0.8356, 1.0278, 1.5093, 0.5997, 1.0406, 1.1698, 1.6333, 1.7002,\n",
            "        0.4166, 1.3711, 1.3717, 0.6364, 1.1634, 1.1341, 1.1479, 1.5310, 0.7045,\n",
            "        0.5154, 1.1588, 0.9827, 0.3649, 1.2749, 0.6845, 0.7858, 1.2648, 0.9973,\n",
            "        1.4959, 0.7878, 1.1233, 1.2502, 1.6640], grad_fn=<SqueezeBackward0>)\n",
            "tensor([0.9025, 0.6352, 1.5622, 1.1236, 0.9297, 1.0274, 1.3528, 1.1077, 1.3372,\n",
            "        0.9473, 0.8047, 0.5625, 1.0419, 0.7286, 1.2842, 0.5888, 0.6989, 0.7647,\n",
            "        1.2832, 0.8068, 1.0789, 1.4191, 0.5235, 1.0582, 1.1645, 1.6303, 1.7693,\n",
            "        0.4732, 1.4376, 1.2985, 0.6547, 1.2652, 1.1723, 1.0339, 1.5294, 0.7715,\n",
            "        0.5086, 1.1800, 0.9978, 0.3671, 1.3066, 0.7328, 0.8876, 1.1349, 0.9948,\n",
            "        1.5535, 0.8669, 1.1721, 1.1682, 1.5544])\n"
          ]
        }
      ]
    },
    {
      "cell_type": "markdown",
      "source": [
        "Now we are going to test our SRNN on the same problem but this time with a sequence lenght of 750"
      ],
      "metadata": {
        "id": "u_UEwYKjpz7Q"
      }
    },
    {
      "cell_type": "code",
      "source": [
        "batchSize = 50\n",
        "dataset750 = DataLoader(AddingProblemDataset(ds_size=100*batchSize, sample_len=750),batch_size=batchSize)"
      ],
      "metadata": {
        "id": "kYDLUXnGqBUq"
      },
      "execution_count": 62,
      "outputs": []
    },
    {
      "cell_type": "code",
      "source": [
        "net750 = SRNN(2,128,8,1)"
      ],
      "metadata": {
        "id": "Pst17ZX_qNHe"
      },
      "execution_count": 63,
      "outputs": []
    },
    {
      "cell_type": "code",
      "source": [
        "loss750 = nn.MSELoss()\n",
        "opt750 = torch.optim.Adam(net750.parameters())"
      ],
      "metadata": {
        "id": "9LzSymjWqXNO"
      },
      "execution_count": 64,
      "outputs": []
    },
    {
      "cell_type": "code",
      "source": [
        "xb750, yb750 = next(iter(dataset750))\n",
        "ypred750, h750 = net750(xb750)\n",
        "print(loss750(ypred750.squeeze(), yb750))"
      ],
      "metadata": {
        "colab": {
          "base_uri": "https://localhost:8080/"
        },
        "id": "tvqo_ZdXqTwe",
        "outputId": "fc2c2e7a-7b54-4a97-c07e-37ce3e28a79d"
      },
      "execution_count": 65,
      "outputs": [
        {
          "output_type": "stream",
          "name": "stdout",
          "text": [
            "tensor(39.7789, grad_fn=<MseLossBackward0>)\n"
          ]
        }
      ]
    },
    {
      "cell_type": "code",
      "source": [
        "for epoch in range(10):\n",
        "  net750.train()\n",
        "  for xb750, yb750 in tqdm.tqdm(dataset750):\n",
        "    \n",
        "    xb750, yb750 = xb750.to(device), yb750.to(device)\n",
        "    opt750.zero_grad()\n",
        "    ypred750, h750 = net750(xb750)\n",
        "    l = loss(ypred750.squeeze(), yb750)\n",
        "    l.backward()\n",
        "    opt750.step()\n",
        "\n",
        "  net750.eval()\n",
        "  print(f'Accuracy at epoch {epoch+1}: {l}')"
      ],
      "metadata": {
        "colab": {
          "base_uri": "https://localhost:8080/"
        },
        "id": "bXO47FLHqk--",
        "outputId": "a1a6a332-5794-4f0a-a370-0f93013525b7"
      },
      "execution_count": 67,
      "outputs": [
        {
          "output_type": "stream",
          "name": "stderr",
          "text": [
            "100%|██████████| 100/100 [02:43<00:00,  1.64s/it]\n"
          ]
        },
        {
          "output_type": "stream",
          "name": "stdout",
          "text": [
            "Accuracy at epoch 1: 0.19520387053489685\n"
          ]
        },
        {
          "output_type": "stream",
          "name": "stderr",
          "text": [
            "100%|██████████| 100/100 [02:43<00:00,  1.63s/it]\n"
          ]
        },
        {
          "output_type": "stream",
          "name": "stdout",
          "text": [
            "Accuracy at epoch 2: 0.19216546416282654\n"
          ]
        },
        {
          "output_type": "stream",
          "name": "stderr",
          "text": [
            "100%|██████████| 100/100 [02:42<00:00,  1.63s/it]\n"
          ]
        },
        {
          "output_type": "stream",
          "name": "stdout",
          "text": [
            "Accuracy at epoch 3: 0.19294202327728271\n"
          ]
        },
        {
          "output_type": "stream",
          "name": "stderr",
          "text": [
            "100%|██████████| 100/100 [02:42<00:00,  1.62s/it]\n"
          ]
        },
        {
          "output_type": "stream",
          "name": "stdout",
          "text": [
            "Accuracy at epoch 4: 0.19828654825687408\n"
          ]
        },
        {
          "output_type": "stream",
          "name": "stderr",
          "text": [
            "100%|██████████| 100/100 [02:43<00:00,  1.63s/it]\n"
          ]
        },
        {
          "output_type": "stream",
          "name": "stdout",
          "text": [
            "Accuracy at epoch 5: 0.09964174032211304\n"
          ]
        },
        {
          "output_type": "stream",
          "name": "stderr",
          "text": [
            "100%|██████████| 100/100 [02:42<00:00,  1.63s/it]\n"
          ]
        },
        {
          "output_type": "stream",
          "name": "stdout",
          "text": [
            "Accuracy at epoch 6: 0.20470498502254486\n"
          ]
        },
        {
          "output_type": "stream",
          "name": "stderr",
          "text": [
            "100%|██████████| 100/100 [02:42<00:00,  1.63s/it]\n"
          ]
        },
        {
          "output_type": "stream",
          "name": "stdout",
          "text": [
            "Accuracy at epoch 7: 0.14254242181777954\n"
          ]
        },
        {
          "output_type": "stream",
          "name": "stderr",
          "text": [
            "100%|██████████| 100/100 [02:42<00:00,  1.62s/it]\n"
          ]
        },
        {
          "output_type": "stream",
          "name": "stdout",
          "text": [
            "Accuracy at epoch 8: 0.21697691082954407\n"
          ]
        },
        {
          "output_type": "stream",
          "name": "stderr",
          "text": [
            "100%|██████████| 100/100 [02:42<00:00,  1.63s/it]\n"
          ]
        },
        {
          "output_type": "stream",
          "name": "stdout",
          "text": [
            "Accuracy at epoch 9: 0.12660609185695648\n"
          ]
        },
        {
          "output_type": "stream",
          "name": "stderr",
          "text": [
            "100%|██████████| 100/100 [02:42<00:00,  1.63s/it]"
          ]
        },
        {
          "output_type": "stream",
          "name": "stdout",
          "text": [
            "Accuracy at epoch 10: 0.12603643536567688\n"
          ]
        },
        {
          "output_type": "stream",
          "name": "stderr",
          "text": [
            "\n"
          ]
        }
      ]
    }
  ]
}